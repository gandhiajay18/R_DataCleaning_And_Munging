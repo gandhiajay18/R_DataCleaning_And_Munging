{
 "cells": [
  {
   "cell_type": "markdown",
   "metadata": {},
   "source": [
    "## Question and Answers"
   ]
  },
  {
   "cell_type": "markdown",
   "metadata": {},
   "source": [
    "### References:\n",
    "#### 1. Lab2.pdf\n",
    "#### 2. Kaggle Sqlite European Soccer Database - https://www.kaggle.com/\n",
    "#### 3. Titanic Survivors Vignette - http://rstudio-pubs-static.s3.amazonaws.com/25402_590f6acfb2544355883f8dcf1c441dc6.html\n",
    "#### 4. XML - https://www.tutorialspoint.com/r/r_xml_files.htm\n",
    "#### 5. SQLite  - https://cran.r-project.org/web/packages/RSQLite/RSQLite.pdf\n",
    "#### 6. CSV files - https://cran.r-project.org/doc/manuals/R-data.pdf or http://rprogramming.net/read-csv-in-r/\n",
    "#### 7. dplyr - https://cran.rstudio.com/web/packages/dplyr/vignettes/introduction.html\n",
    "#### 8. sqldf - https://cran.r-project.org/web/packages/sqldf/sqldf.pdf"
   ]
  },
  {
   "cell_type": "markdown",
   "metadata": {},
   "source": [
    "#### Load Necessary Libraries"
   ]
  },
  {
   "cell_type": "code",
   "execution_count": 71,
   "metadata": {
    "collapsed": true
   },
   "outputs": [],
   "source": [
    "library(dplyr)\n",
    "library(sqldf)"
   ]
  },
  {
   "cell_type": "markdown",
   "metadata": {},
   "source": [
    "#### Read Player.csv File"
   ]
  },
  {
   "cell_type": "code",
   "execution_count": 72,
   "metadata": {
    "collapsed": false
   },
   "outputs": [
    {
     "data": {
      "text/html": [
       "<table>\n",
       "<thead><tr><th scope=col>player_api_id</th><th scope=col>player_name</th><th scope=col>overall_rating</th><th scope=col>gk_attributes</th><th scope=col>match_count</th><th scope=col>league_count</th></tr></thead>\n",
       "<tbody>\n",
       "\t<tr><td>2625             </td><td>Patryk Rachwal 18</td><td>63               </td><td>153              </td><td>90               </td><td>1                </td></tr>\n",
       "\t<tr><td>2752             </td><td>Diego Mainz      </td><td>72               </td><td> 53              </td><td>81               </td><td>1                </td></tr>\n",
       "\t<tr><td>2768             </td><td>Jose Dorado      </td><td>75               </td><td> 64              </td><td>71               </td><td>1                </td></tr>\n",
       "\t<tr><td>2770             </td><td>Ignacio Gonzalez </td><td>74               </td><td> 60              </td><td>16               </td><td>2                </td></tr>\n",
       "\t<tr><td>2790             </td><td>Alberto Rey      </td><td>73               </td><td>144              </td><td>50               </td><td>1                </td></tr>\n",
       "\t<tr><td>2796             </td><td>Javier Jimenez   </td><td>69               </td><td>340              </td><td> 1               </td><td>1                </td></tr>\n",
       "</tbody>\n",
       "</table>\n"
      ],
      "text/latex": [
       "\\begin{tabular}{r|llllll}\n",
       " player\\_api\\_id & player\\_name & overall\\_rating & gk\\_attributes & match\\_count & league\\_count\\\\\n",
       "\\hline\n",
       "\t 2625              & Patryk Rachwal 18 & 63                & 153               & 90                & 1                \\\\\n",
       "\t 2752              & Diego Mainz       & 72                &  53               & 81                & 1                \\\\\n",
       "\t 2768              & Jose Dorado       & 75                &  64               & 71                & 1                \\\\\n",
       "\t 2770              & Ignacio Gonzalez  & 74                &  60               & 16                & 2                \\\\\n",
       "\t 2790              & Alberto Rey       & 73                & 144               & 50                & 1                \\\\\n",
       "\t 2796              & Javier Jimenez    & 69                & 340               &  1                & 1                \\\\\n",
       "\\end{tabular}\n"
      ],
      "text/markdown": [
       "\n",
       "player_api_id | player_name | overall_rating | gk_attributes | match_count | league_count | \n",
       "|---|---|---|---|---|---|\n",
       "| 2625              | Patryk Rachwal 18 | 63                | 153               | 90                | 1                 | \n",
       "| 2752              | Diego Mainz       | 72                |  53               | 81                | 1                 | \n",
       "| 2768              | Jose Dorado       | 75                |  64               | 71                | 1                 | \n",
       "| 2770              | Ignacio Gonzalez  | 74                |  60               | 16                | 2                 | \n",
       "| 2790              | Alberto Rey       | 73                | 144               | 50                | 1                 | \n",
       "| 2796              | Javier Jimenez    | 69                | 340               |  1                | 1                 | \n",
       "\n",
       "\n"
      ],
      "text/plain": [
       "  player_api_id player_name       overall_rating gk_attributes match_count\n",
       "1 2625          Patryk Rachwal 18 63             153           90         \n",
       "2 2752          Diego Mainz       72              53           81         \n",
       "3 2768          Jose Dorado       75              64           71         \n",
       "4 2770          Ignacio Gonzalez  74              60           16         \n",
       "5 2790          Alberto Rey       73             144           50         \n",
       "6 2796          Javier Jimenez    69             340            1         \n",
       "  league_count\n",
       "1 1           \n",
       "2 1           \n",
       "3 1           \n",
       "4 2           \n",
       "5 1           \n",
       "6 1           "
      ]
     },
     "metadata": {},
     "output_type": "display_data"
    }
   ],
   "source": [
    "Players<- read.csv(file=\"player.csv\", header=TRUE)                #Read CSV file from System\n",
    "Player <- arrange(Players)%>%rename(match_count = count.match_api_id.,league_count=count.distinct.league_id.)\n",
    "head(Player)                                                      #Check if properly loaded"
   ]
  },
  {
   "cell_type": "markdown",
   "metadata": {},
   "source": [
    "#### There are 2 ways to solve these questions, I have shown below both the ways to retrieve answers for these questions. Either using sqlite queries or without using sqlite queries."
   ]
  },
  {
   "cell_type": "markdown",
   "metadata": {},
   "source": [
    "### Question 1: Which are the top 10 players by overall rating?"
   ]
  },
  {
   "cell_type": "code",
   "execution_count": 73,
   "metadata": {
    "collapsed": false
   },
   "outputs": [
    {
     "data": {
      "text/html": [
       "<table>\n",
       "<thead><tr><th scope=col>Player_Name_Top_10</th><th scope=col>Max_Rating</th></tr></thead>\n",
       "<tbody>\n",
       "\t<tr><td>\"Lionel Messi\"     </td><td>94                 </td></tr>\n",
       "\t<tr><td>\"Gianluigi Buffon\" </td><td>93                 </td></tr>\n",
       "\t<tr><td>\"Wayne Rooney\"     </td><td>93                 </td></tr>\n",
       "\t<tr><td>\"Cristiano Ronaldo\"</td><td>93                 </td></tr>\n",
       "\t<tr><td>\"Xavi Hernandez\"   </td><td>92                 </td></tr>\n",
       "\t<tr><td>\"Gregory Coupet\"   </td><td>92                 </td></tr>\n",
       "\t<tr><td>\"Thierry Henry\"    </td><td>91                 </td></tr>\n",
       "\t<tr><td>\"John Terry\"       </td><td>91                 </td></tr>\n",
       "\t<tr><td>\"Iker Casillas\"    </td><td>91                 </td></tr>\n",
       "\t<tr><td>\"Alessandro Nesta\" </td><td>91                 </td></tr>\n",
       "</tbody>\n",
       "</table>\n"
      ],
      "text/latex": [
       "\\begin{tabular}{r|ll}\n",
       " Player\\_Name\\_Top\\_10 & Max\\_Rating\\\\\n",
       "\\hline\n",
       "\t \"Lionel Messi\"      & 94                 \\\\\n",
       "\t \"Gianluigi Buffon\"  & 93                 \\\\\n",
       "\t \"Wayne Rooney\"      & 93                 \\\\\n",
       "\t \"Cristiano Ronaldo\" & 93                 \\\\\n",
       "\t \"Xavi Hernandez\"    & 92                 \\\\\n",
       "\t \"Gregory Coupet\"    & 92                 \\\\\n",
       "\t \"Thierry Henry\"     & 91                 \\\\\n",
       "\t \"John Terry\"        & 91                 \\\\\n",
       "\t \"Iker Casillas\"     & 91                 \\\\\n",
       "\t \"Alessandro Nesta\"  & 91                 \\\\\n",
       "\\end{tabular}\n"
      ],
      "text/markdown": [
       "\n",
       "Player_Name_Top_10 | Max_Rating | \n",
       "|---|---|---|---|---|---|---|---|---|---|\n",
       "| \"Lionel Messi\"      | 94                  | \n",
       "| \"Gianluigi Buffon\"  | 93                  | \n",
       "| \"Wayne Rooney\"      | 93                  | \n",
       "| \"Cristiano Ronaldo\" | 93                  | \n",
       "| \"Xavi Hernandez\"    | 92                  | \n",
       "| \"Gregory Coupet\"    | 92                  | \n",
       "| \"Thierry Henry\"     | 91                  | \n",
       "| \"John Terry\"        | 91                  | \n",
       "| \"Iker Casillas\"     | 91                  | \n",
       "| \"Alessandro Nesta\"  | 91                  | \n",
       "\n",
       "\n"
      ],
      "text/plain": [
       "   Player_Name_Top_10  Max_Rating\n",
       "1  \"Lionel Messi\"      94        \n",
       "2  \"Gianluigi Buffon\"  93        \n",
       "3  \"Wayne Rooney\"      93        \n",
       "4  \"Cristiano Ronaldo\" 93        \n",
       "5  \"Xavi Hernandez\"    92        \n",
       "6  \"Gregory Coupet\"    92        \n",
       "7  \"Thierry Henry\"     91        \n",
       "8  \"John Terry\"        91        \n",
       "9  \"Iker Casillas\"     91        \n",
       "10 \"Alessandro Nesta\"  91        "
      ]
     },
     "metadata": {},
     "output_type": "display_data"
    }
   ],
   "source": [
    "q1 <- read.csv.sql(\"player.csv\", sql = 'select player_name as Player_Name_Top_10,overall_rating as Max_Rating from file order by max_rating DESC limit 10',eol=\"\\n\")\n",
    "arrange(q1)"
   ]
  },
  {
   "cell_type": "markdown",
   "metadata": {},
   "source": [
    "### Question 2: Which are the top 10 goalkeepers by sum of gk attributes?"
   ]
  },
  {
   "cell_type": "code",
   "execution_count": 74,
   "metadata": {
    "collapsed": false
   },
   "outputs": [
    {
     "name": "stderr",
     "output_type": "stream",
     "text": [
      "Warning message:\n",
      "\"closing unused connection 6 (player.csv)\"Warning message:\n",
      "\"closing unused connection 5 (player.csv)\"Warning message:\n",
      "\"closing unused connection 4 (player.csv)\""
     ]
    },
    {
     "data": {
      "text/html": [
       "<table>\n",
       "<thead><tr><th scope=col>Player_Name_Top_10_GK</th><th scope=col>GK_Total_Rating</th></tr></thead>\n",
       "<tbody>\n",
       "\t<tr><td>\"Gianluigi Buffon\" </td><td>449                </td></tr>\n",
       "\t<tr><td>\"Gregory Coupet\"   </td><td>447                </td></tr>\n",
       "\t<tr><td>\"Petr Cech\"        </td><td>445                </td></tr>\n",
       "\t<tr><td>\"Iker Casillas\"    </td><td>442                </td></tr>\n",
       "\t<tr><td>\"Manuel Neuer\"     </td><td>440                </td></tr>\n",
       "\t<tr><td>\"Julio Cesar\"      </td><td>438                </td></tr>\n",
       "\t<tr><td>\"Sebastian Frey\"   </td><td>437                </td></tr>\n",
       "\t<tr><td>\"Edwin van der Sar\"</td><td>436                </td></tr>\n",
       "\t<tr><td>\"David De Gea\"     </td><td>429                </td></tr>\n",
       "\t<tr><td>\"Paul Robinson\"    </td><td>426                </td></tr>\n",
       "</tbody>\n",
       "</table>\n"
      ],
      "text/latex": [
       "\\begin{tabular}{r|ll}\n",
       " Player\\_Name\\_Top\\_10\\_GK & GK\\_Total\\_Rating\\\\\n",
       "\\hline\n",
       "\t \"Gianluigi Buffon\"  & 449                \\\\\n",
       "\t \"Gregory Coupet\"    & 447                \\\\\n",
       "\t \"Petr Cech\"         & 445                \\\\\n",
       "\t \"Iker Casillas\"     & 442                \\\\\n",
       "\t \"Manuel Neuer\"      & 440                \\\\\n",
       "\t \"Julio Cesar\"       & 438                \\\\\n",
       "\t \"Sebastian Frey\"    & 437                \\\\\n",
       "\t \"Edwin van der Sar\" & 436                \\\\\n",
       "\t \"David De Gea\"      & 429                \\\\\n",
       "\t \"Paul Robinson\"     & 426                \\\\\n",
       "\\end{tabular}\n"
      ],
      "text/markdown": [
       "\n",
       "Player_Name_Top_10_GK | GK_Total_Rating | \n",
       "|---|---|---|---|---|---|---|---|---|---|\n",
       "| \"Gianluigi Buffon\"  | 449                 | \n",
       "| \"Gregory Coupet\"    | 447                 | \n",
       "| \"Petr Cech\"         | 445                 | \n",
       "| \"Iker Casillas\"     | 442                 | \n",
       "| \"Manuel Neuer\"      | 440                 | \n",
       "| \"Julio Cesar\"       | 438                 | \n",
       "| \"Sebastian Frey\"    | 437                 | \n",
       "| \"Edwin van der Sar\" | 436                 | \n",
       "| \"David De Gea\"      | 429                 | \n",
       "| \"Paul Robinson\"     | 426                 | \n",
       "\n",
       "\n"
      ],
      "text/plain": [
       "   Player_Name_Top_10_GK GK_Total_Rating\n",
       "1  \"Gianluigi Buffon\"    449            \n",
       "2  \"Gregory Coupet\"      447            \n",
       "3  \"Petr Cech\"           445            \n",
       "4  \"Iker Casillas\"       442            \n",
       "5  \"Manuel Neuer\"        440            \n",
       "6  \"Julio Cesar\"         438            \n",
       "7  \"Sebastian Frey\"      437            \n",
       "8  \"Edwin van der Sar\"   436            \n",
       "9  \"David De Gea\"        429            \n",
       "10 \"Paul Robinson\"       426            "
      ]
     },
     "metadata": {},
     "output_type": "display_data"
    }
   ],
   "source": [
    "q2 <- read.csv.sql(\"player.csv\", sql = 'select player_name as Player_Name_Top_10_GK,gk_attributes as GK_Total_Rating from file order by gk_attributes DESC limit 10',eol=\"\\n\")\n",
    "arrange(q2)"
   ]
  },
  {
   "cell_type": "markdown",
   "metadata": {},
   "source": [
    "### Question 3: Which are the top 10 players by number of appearances (with any team they played with)?"
   ]
  },
  {
   "cell_type": "code",
   "execution_count": 75,
   "metadata": {
    "collapsed": false
   },
   "outputs": [
    {
     "data": {
      "text/html": [
       "<table>\n",
       "<thead><tr><th scope=col>Top_Ten_Goalkepers_by_Appearences</th><th scope=col>Total_Matches_Played</th></tr></thead>\n",
       "<tbody>\n",
       "\t<tr><td>Steve Mandanda      </td><td>300                 </td></tr>\n",
       "\t<tr><td>Stephane Ruffier    </td><td>294                 </td></tr>\n",
       "\t<tr><td>Gorka Iraizoz Moreno</td><td>286                 </td></tr>\n",
       "\t<tr><td>Samir Handanovic    </td><td>286                 </td></tr>\n",
       "\t<tr><td>Hugo Lloris         </td><td>282                 </td></tr>\n",
       "\t<tr><td>Tim Howard          </td><td>282                 </td></tr>\n",
       "\t<tr><td>Joe Hart            </td><td>275                 </td></tr>\n",
       "\t<tr><td>Cedric Carrasso     </td><td>268                 </td></tr>\n",
       "\t<tr><td>Daniel Congre       </td><td>262                 </td></tr>\n",
       "\t<tr><td>Moussa Sissoko      </td><td>260                 </td></tr>\n",
       "</tbody>\n",
       "</table>\n"
      ],
      "text/latex": [
       "\\begin{tabular}{r|ll}\n",
       " Top\\_Ten\\_Goalkepers\\_by\\_Appearences & Total\\_Matches\\_Played\\\\\n",
       "\\hline\n",
       "\t Steve Mandanda       & 300                 \\\\\n",
       "\t Stephane Ruffier     & 294                 \\\\\n",
       "\t Gorka Iraizoz Moreno & 286                 \\\\\n",
       "\t Samir Handanovic     & 286                 \\\\\n",
       "\t Hugo Lloris          & 282                 \\\\\n",
       "\t Tim Howard           & 282                 \\\\\n",
       "\t Joe Hart             & 275                 \\\\\n",
       "\t Cedric Carrasso      & 268                 \\\\\n",
       "\t Daniel Congre        & 262                 \\\\\n",
       "\t Moussa Sissoko       & 260                 \\\\\n",
       "\\end{tabular}\n"
      ],
      "text/markdown": [
       "\n",
       "Top_Ten_Goalkepers_by_Appearences | Total_Matches_Played | \n",
       "|---|---|---|---|---|---|---|---|---|---|\n",
       "| Steve Mandanda       | 300                  | \n",
       "| Stephane Ruffier     | 294                  | \n",
       "| Gorka Iraizoz Moreno | 286                  | \n",
       "| Samir Handanovic     | 286                  | \n",
       "| Hugo Lloris          | 282                  | \n",
       "| Tim Howard           | 282                  | \n",
       "| Joe Hart             | 275                  | \n",
       "| Cedric Carrasso      | 268                  | \n",
       "| Daniel Congre        | 262                  | \n",
       "| Moussa Sissoko       | 260                  | \n",
       "\n",
       "\n"
      ],
      "text/plain": [
       "   Top_Ten_Goalkepers_by_Appearences Total_Matches_Played\n",
       "1  Steve Mandanda                    300                 \n",
       "2  Stephane Ruffier                  294                 \n",
       "3  Gorka Iraizoz Moreno              286                 \n",
       "4  Samir Handanovic                  286                 \n",
       "5  Hugo Lloris                       282                 \n",
       "6  Tim Howard                        282                 \n",
       "7  Joe Hart                          275                 \n",
       "8  Cedric Carrasso                   268                 \n",
       "9  Daniel Congre                     262                 \n",
       "10 Moussa Sissoko                    260                 "
      ]
     },
     "metadata": {},
     "output_type": "display_data"
    }
   ],
   "source": [
    "q3 <- arrange(Players,desc(count.match_api_id.))%>%select(player_name,count.match_api_id.)%>%rename(Top_Ten_Goalkepers_by_Appearences = player_name,Total_Matches_Played=count.match_api_id. )\n",
    "arrange(q3)%>%head(10)"
   ]
  },
  {
   "cell_type": "markdown",
   "metadata": {},
   "source": [
    "### Question 4: Which are the top 10 players by number of leagues they played in?"
   ]
  },
  {
   "cell_type": "code",
   "execution_count": 76,
   "metadata": {
    "collapsed": false
   },
   "outputs": [
    {
     "data": {
      "text/html": [
       "<table>\n",
       "<thead><tr><th scope=col>Top_Ten_Players_by_League_Count</th><th scope=col>No_Of_Leagues</th></tr></thead>\n",
       "<tbody>\n",
       "\t<tr><td>Gelson Fernandes     </td><td>6                    </td></tr>\n",
       "\t<tr><td>Ricky van Wolfswinkel</td><td>5                    </td></tr>\n",
       "\t<tr><td>Filip Djuricic       </td><td>5                    </td></tr>\n",
       "\t<tr><td>Radamel Falcao       </td><td>4                    </td></tr>\n",
       "\t<tr><td>Jonathan De Guzman   </td><td>4                    </td></tr>\n",
       "\t<tr><td>Almen Abdi           </td><td>4                    </td></tr>\n",
       "\t<tr><td>Ibrahim Afellay      </td><td>4                    </td></tr>\n",
       "\t<tr><td>Edson Braafheid      </td><td>4                    </td></tr>\n",
       "\t<tr><td>Eljero Elia          </td><td>4                    </td></tr>\n",
       "\t<tr><td>Danijel Pranjic      </td><td>4                    </td></tr>\n",
       "</tbody>\n",
       "</table>\n"
      ],
      "text/latex": [
       "\\begin{tabular}{r|ll}\n",
       " Top\\_Ten\\_Players\\_by\\_League\\_Count & No\\_Of\\_Leagues\\\\\n",
       "\\hline\n",
       "\t Gelson Fernandes      & 6                    \\\\\n",
       "\t Ricky van Wolfswinkel & 5                    \\\\\n",
       "\t Filip Djuricic        & 5                    \\\\\n",
       "\t Radamel Falcao        & 4                    \\\\\n",
       "\t Jonathan De Guzman    & 4                    \\\\\n",
       "\t Almen Abdi            & 4                    \\\\\n",
       "\t Ibrahim Afellay       & 4                    \\\\\n",
       "\t Edson Braafheid       & 4                    \\\\\n",
       "\t Eljero Elia           & 4                    \\\\\n",
       "\t Danijel Pranjic       & 4                    \\\\\n",
       "\\end{tabular}\n"
      ],
      "text/markdown": [
       "\n",
       "Top_Ten_Players_by_League_Count | No_Of_Leagues | \n",
       "|---|---|---|---|---|---|---|---|---|---|\n",
       "| Gelson Fernandes      | 6                     | \n",
       "| Ricky van Wolfswinkel | 5                     | \n",
       "| Filip Djuricic        | 5                     | \n",
       "| Radamel Falcao        | 4                     | \n",
       "| Jonathan De Guzman    | 4                     | \n",
       "| Almen Abdi            | 4                     | \n",
       "| Ibrahim Afellay       | 4                     | \n",
       "| Edson Braafheid       | 4                     | \n",
       "| Eljero Elia           | 4                     | \n",
       "| Danijel Pranjic       | 4                     | \n",
       "\n",
       "\n"
      ],
      "text/plain": [
       "   Top_Ten_Players_by_League_Count No_Of_Leagues\n",
       "1  Gelson Fernandes                6            \n",
       "2  Ricky van Wolfswinkel           5            \n",
       "3  Filip Djuricic                  5            \n",
       "4  Radamel Falcao                  4            \n",
       "5  Jonathan De Guzman              4            \n",
       "6  Almen Abdi                      4            \n",
       "7  Ibrahim Afellay                 4            \n",
       "8  Edson Braafheid                 4            \n",
       "9  Eljero Elia                     4            \n",
       "10 Danijel Pranjic                 4            "
      ]
     },
     "metadata": {},
     "output_type": "display_data"
    }
   ],
   "source": [
    "q4 <- arrange(Players)%>%select(player_name,count.distinct.league_id.)%>%rename(Top_Ten_Players_by_League_Count = player_name ,No_Of_Leagues = count.distinct.league_id.)\n",
    "arrange(q4,desc(No_Of_Leagues))%>%head(10)"
   ]
  },
  {
   "cell_type": "markdown",
   "metadata": {},
   "source": [
    "#### Read Team.csv File"
   ]
  },
  {
   "cell_type": "code",
   "execution_count": 77,
   "metadata": {
    "collapsed": false
   },
   "outputs": [
    {
     "data": {
      "text/html": [
       "<table>\n",
       "<thead><tr><th scope=col>team_api_id</th><th scope=col>team_long_name</th><th scope=col>build_sum</th><th scope=col>chance_sum</th><th scope=col>defense_sum</th><th scope=col>away_goal</th><th scope=col>home_goal</th><th scope=col>total_goal</th></tr></thead>\n",
       "<tbody>\n",
       "\t<tr><td>1601                 </td><td>Ruch Chorzów         </td><td>139                  </td><td>181                  </td><td>136                  </td><td>132                  </td><td>148                  </td><td>280                  </td></tr>\n",
       "\t<tr><td>1773                 </td><td>Oud-Heverlee Leuven  </td><td>153                  </td><td>157                  </td><td>137                  </td><td> 52                  </td><td> 74                  </td><td>126                  </td></tr>\n",
       "\t<tr><td>1957                 </td><td>Jagiellonia Bialystok</td><td>158                  </td><td>152                  </td><td>162                  </td><td>111                  </td><td>176                  </td><td>287                  </td></tr>\n",
       "\t<tr><td>2033                 </td><td>S.C. Olhanense       </td><td>147                  </td><td>134                  </td><td>105                  </td><td> 68                  </td><td> 70                  </td><td>138                  </td></tr>\n",
       "\t<tr><td>2182                 </td><td>Lech Poznan          </td><td>176                  </td><td>185                  </td><td>157                  </td><td>157                  </td><td>215                  </td><td>372                  </td></tr>\n",
       "\t<tr><td>2183                 </td><td>P. Warszawa          </td><td> 80                  </td><td>162                  </td><td>140                  </td><td> 88                  </td><td> 96                  </td><td>184                  </td></tr>\n",
       "</tbody>\n",
       "</table>\n"
      ],
      "text/latex": [
       "\\begin{tabular}{r|llllllll}\n",
       " team\\_api\\_id & team\\_long\\_name & build\\_sum & chance\\_sum & defense\\_sum & away\\_goal & home\\_goal & total\\_goal\\\\\n",
       "\\hline\n",
       "\t 1601                  & Ruch Chorzów          & 139                   & 181                   & 136                   & 132                   & 148                   & 280                  \\\\\n",
       "\t 1773                  & Oud-Heverlee Leuven   & 153                   & 157                   & 137                   &  52                   &  74                   & 126                  \\\\\n",
       "\t 1957                  & Jagiellonia Bialystok & 158                   & 152                   & 162                   & 111                   & 176                   & 287                  \\\\\n",
       "\t 2033                  & S.C. Olhanense        & 147                   & 134                   & 105                   &  68                   &  70                   & 138                  \\\\\n",
       "\t 2182                  & Lech Poznan           & 176                   & 185                   & 157                   & 157                   & 215                   & 372                  \\\\\n",
       "\t 2183                  & P. Warszawa           &  80                   & 162                   & 140                   &  88                   &  96                   & 184                  \\\\\n",
       "\\end{tabular}\n"
      ],
      "text/markdown": [
       "\n",
       "team_api_id | team_long_name | build_sum | chance_sum | defense_sum | away_goal | home_goal | total_goal | \n",
       "|---|---|---|---|---|---|\n",
       "| 1601                  | Ruch Chorzów          | 139                   | 181                   | 136                   | 132                   | 148                   | 280                   | \n",
       "| 1773                  | Oud-Heverlee Leuven   | 153                   | 157                   | 137                   |  52                   |  74                   | 126                   | \n",
       "| 1957                  | Jagiellonia Bialystok | 158                   | 152                   | 162                   | 111                   | 176                   | 287                   | \n",
       "| 2033                  | S.C. Olhanense        | 147                   | 134                   | 105                   |  68                   |  70                   | 138                   | \n",
       "| 2182                  | Lech Poznan           | 176                   | 185                   | 157                   | 157                   | 215                   | 372                   | \n",
       "| 2183                  | P. Warszawa           |  80                   | 162                   | 140                   |  88                   |  96                   | 184                   | \n",
       "\n",
       "\n"
      ],
      "text/plain": [
       "  team_api_id team_long_name        build_sum chance_sum defense_sum away_goal\n",
       "1 1601        Ruch Chorzów          139       181        136         132      \n",
       "2 1773        Oud-Heverlee Leuven   153       157        137          52      \n",
       "3 1957        Jagiellonia Bialystok 158       152        162         111      \n",
       "4 2033        S.C. Olhanense        147       134        105          68      \n",
       "5 2182        Lech Poznan           176       185        157         157      \n",
       "6 2183        P. Warszawa            80       162        140          88      \n",
       "  home_goal total_goal\n",
       "1 148       280       \n",
       "2  74       126       \n",
       "3 176       287       \n",
       "4  70       138       \n",
       "5 215       372       \n",
       "6  96       184       "
      ]
     },
     "metadata": {},
     "output_type": "display_data"
    }
   ],
   "source": [
    "Team<- read.csv(file=\"team.csv\", header=TRUE)                           #Load CSV from System\n",
    "head(Team)                                                              #Check if read properly"
   ]
  },
  {
   "cell_type": "markdown",
   "metadata": {},
   "source": [
    "### Question 5: Which are the top 10 teams by sum of build up play attributes?"
   ]
  },
  {
   "cell_type": "code",
   "execution_count": 78,
   "metadata": {
    "collapsed": false
   },
   "outputs": [
    {
     "name": "stderr",
     "output_type": "stream",
     "text": [
      "Warning message:\n",
      "\"closing unused connection 7 (player.csv)\""
     ]
    },
    {
     "data": {
      "text/html": [
       "<table>\n",
       "<thead><tr><th scope=col>Top_Ten_Teams_by_Build_Up</th><th scope=col>Sum_Build_Up</th></tr></thead>\n",
       "<tbody>\n",
       "\t<tr><td>Torino                    </td><td>209                       </td></tr>\n",
       "\t<tr><td>Udinese                   </td><td>205                       </td></tr>\n",
       "\t<tr><td>Fortuna Düsseldorf        </td><td>198                       </td></tr>\n",
       "\t<tr><td>Podbeskidzie Bielsko-Biala</td><td>193                       </td></tr>\n",
       "\t<tr><td>Korona Kielce             </td><td>192                       </td></tr>\n",
       "\t<tr><td>Widzew Lódz               </td><td>190                       </td></tr>\n",
       "\t<tr><td>Widzew Lódz               </td><td>190                       </td></tr>\n",
       "\t<tr><td>Carpi                     </td><td>190                       </td></tr>\n",
       "\t<tr><td>FC Nantes                 </td><td>189                       </td></tr>\n",
       "\t<tr><td>Sassuolo                  </td><td>188                       </td></tr>\n",
       "</tbody>\n",
       "</table>\n"
      ],
      "text/latex": [
       "\\begin{tabular}{r|ll}\n",
       " Top\\_Ten\\_Teams\\_by\\_Build\\_Up & Sum\\_Build\\_Up\\\\\n",
       "\\hline\n",
       "\t Torino                     & 209                       \\\\\n",
       "\t Udinese                    & 205                       \\\\\n",
       "\t Fortuna Düsseldorf         & 198                       \\\\\n",
       "\t Podbeskidzie Bielsko-Biala & 193                       \\\\\n",
       "\t Korona Kielce              & 192                       \\\\\n",
       "\t Widzew Lódz                & 190                       \\\\\n",
       "\t Widzew Lódz                & 190                       \\\\\n",
       "\t Carpi                      & 190                       \\\\\n",
       "\t FC Nantes                  & 189                       \\\\\n",
       "\t Sassuolo                   & 188                       \\\\\n",
       "\\end{tabular}\n"
      ],
      "text/markdown": [
       "\n",
       "Top_Ten_Teams_by_Build_Up | Sum_Build_Up | \n",
       "|---|---|---|---|---|---|---|---|---|---|\n",
       "| Torino                     | 209                        | \n",
       "| Udinese                    | 205                        | \n",
       "| Fortuna Düsseldorf         | 198                        | \n",
       "| Podbeskidzie Bielsko-Biala | 193                        | \n",
       "| Korona Kielce              | 192                        | \n",
       "| Widzew Lódz                | 190                        | \n",
       "| Widzew Lódz                | 190                        | \n",
       "| Carpi                      | 190                        | \n",
       "| FC Nantes                  | 189                        | \n",
       "| Sassuolo                   | 188                        | \n",
       "\n",
       "\n"
      ],
      "text/plain": [
       "   Top_Ten_Teams_by_Build_Up  Sum_Build_Up\n",
       "1  Torino                     209         \n",
       "2  Udinese                    205         \n",
       "3  Fortuna Düsseldorf         198         \n",
       "4  Podbeskidzie Bielsko-Biala 193         \n",
       "5  Korona Kielce              192         \n",
       "6  Widzew Lódz                190         \n",
       "7  Widzew Lódz                190         \n",
       "8  Carpi                      190         \n",
       "9  FC Nantes                  189         \n",
       "10 Sassuolo                   188         "
      ]
     },
     "metadata": {},
     "output_type": "display_data"
    }
   ],
   "source": [
    "q5 <- arrange(Team)%>%select(team_long_name,build_sum)%>%rename(Top_Ten_Teams_by_Build_Up = team_long_name,Sum_Build_Up=build_sum )\n",
    "arrange(q5,desc(Sum_Build_Up))%>%head(10)"
   ]
  },
  {
   "cell_type": "markdown",
   "metadata": {},
   "source": [
    "### Question 6: Which are the top 10 teams by sum of chance creation attributes?"
   ]
  },
  {
   "cell_type": "code",
   "execution_count": 79,
   "metadata": {
    "collapsed": false
   },
   "outputs": [
    {
     "data": {
      "text/html": [
       "<table>\n",
       "<thead><tr><th scope=col>Top_Ten_Teams_by_Chance_Creation</th><th scope=col>Sum_Chance_Creation</th></tr></thead>\n",
       "<tbody>\n",
       "\t<tr><td>Lazio                  </td><td>220                    </td></tr>\n",
       "\t<tr><td>Napoli                 </td><td>215                    </td></tr>\n",
       "\t<tr><td>Wolverhampton Wanderers</td><td>210                    </td></tr>\n",
       "\t<tr><td>Swansea City           </td><td>210                    </td></tr>\n",
       "\t<tr><td>FC Bayern Munich       </td><td>205                    </td></tr>\n",
       "\t<tr><td>Birmingham City        </td><td>204                    </td></tr>\n",
       "\t<tr><td>Inter                  </td><td>203                    </td></tr>\n",
       "\t<tr><td>Falkirk                </td><td>200                    </td></tr>\n",
       "\t<tr><td>Bournemouth            </td><td>200                    </td></tr>\n",
       "\t<tr><td>Udinese                </td><td>199                    </td></tr>\n",
       "</tbody>\n",
       "</table>\n"
      ],
      "text/latex": [
       "\\begin{tabular}{r|ll}\n",
       " Top\\_Ten\\_Teams\\_by\\_Chance\\_Creation & Sum\\_Chance\\_Creation\\\\\n",
       "\\hline\n",
       "\t Lazio                   & 220                    \\\\\n",
       "\t Napoli                  & 215                    \\\\\n",
       "\t Wolverhampton Wanderers & 210                    \\\\\n",
       "\t Swansea City            & 210                    \\\\\n",
       "\t FC Bayern Munich        & 205                    \\\\\n",
       "\t Birmingham City         & 204                    \\\\\n",
       "\t Inter                   & 203                    \\\\\n",
       "\t Falkirk                 & 200                    \\\\\n",
       "\t Bournemouth             & 200                    \\\\\n",
       "\t Udinese                 & 199                    \\\\\n",
       "\\end{tabular}\n"
      ],
      "text/markdown": [
       "\n",
       "Top_Ten_Teams_by_Chance_Creation | Sum_Chance_Creation | \n",
       "|---|---|---|---|---|---|---|---|---|---|\n",
       "| Lazio                   | 220                     | \n",
       "| Napoli                  | 215                     | \n",
       "| Wolverhampton Wanderers | 210                     | \n",
       "| Swansea City            | 210                     | \n",
       "| FC Bayern Munich        | 205                     | \n",
       "| Birmingham City         | 204                     | \n",
       "| Inter                   | 203                     | \n",
       "| Falkirk                 | 200                     | \n",
       "| Bournemouth             | 200                     | \n",
       "| Udinese                 | 199                     | \n",
       "\n",
       "\n"
      ],
      "text/plain": [
       "   Top_Ten_Teams_by_Chance_Creation Sum_Chance_Creation\n",
       "1  Lazio                            220                \n",
       "2  Napoli                           215                \n",
       "3  Wolverhampton Wanderers          210                \n",
       "4  Swansea City                     210                \n",
       "5  FC Bayern Munich                 205                \n",
       "6  Birmingham City                  204                \n",
       "7  Inter                            203                \n",
       "8  Falkirk                          200                \n",
       "9  Bournemouth                      200                \n",
       "10 Udinese                          199                "
      ]
     },
     "metadata": {},
     "output_type": "display_data"
    }
   ],
   "source": [
    "q6 <- arrange(Team,desc(chance_sum))%>%select(team_long_name,chance_sum)%>%rename(Top_Ten_Teams_by_Chance_Creation = team_long_name ,Sum_Chance_Creation=chance_sum)\n",
    "arrange(q6,desc(Sum_Chance_Creation))%>%head(10)"
   ]
  },
  {
   "cell_type": "markdown",
   "metadata": {},
   "source": [
    "### Question 7: Which are the top 10 teams by sum of defense attributes?"
   ]
  },
  {
   "cell_type": "code",
   "execution_count": 80,
   "metadata": {
    "collapsed": false
   },
   "outputs": [
    {
     "data": {
      "text/html": [
       "<table>\n",
       "<thead><tr><th scope=col>Top_Ten_Teams_by_Defence_Attributes</th><th scope=col>Sum_Defence_Attributes</th></tr></thead>\n",
       "<tbody>\n",
       "\t<tr><td>Wolverhampton Wanderers</td><td>210                    </td></tr>\n",
       "\t<tr><td>Bournemouth            </td><td>210                    </td></tr>\n",
       "\t<tr><td>Swansea City           </td><td>210                    </td></tr>\n",
       "\t<tr><td>Odra Wodzislaw         </td><td>205                    </td></tr>\n",
       "\t<tr><td>KSV Roeselare          </td><td>205                    </td></tr>\n",
       "\t<tr><td>Falkirk                </td><td>200                    </td></tr>\n",
       "\t<tr><td>Le Mans FC             </td><td>200                    </td></tr>\n",
       "\t<tr><td>Grenoble Foot 38       </td><td>195                    </td></tr>\n",
       "\t<tr><td>FC Barcelona           </td><td>191                    </td></tr>\n",
       "\t<tr><td>Lazio                  </td><td>190                    </td></tr>\n",
       "</tbody>\n",
       "</table>\n"
      ],
      "text/latex": [
       "\\begin{tabular}{r|ll}\n",
       " Top\\_Ten\\_Teams\\_by\\_Defence\\_Attributes & Sum\\_Defence\\_Attributes\\\\\n",
       "\\hline\n",
       "\t Wolverhampton Wanderers & 210                    \\\\\n",
       "\t Bournemouth             & 210                    \\\\\n",
       "\t Swansea City            & 210                    \\\\\n",
       "\t Odra Wodzislaw          & 205                    \\\\\n",
       "\t KSV Roeselare           & 205                    \\\\\n",
       "\t Falkirk                 & 200                    \\\\\n",
       "\t Le Mans FC              & 200                    \\\\\n",
       "\t Grenoble Foot 38        & 195                    \\\\\n",
       "\t FC Barcelona            & 191                    \\\\\n",
       "\t Lazio                   & 190                    \\\\\n",
       "\\end{tabular}\n"
      ],
      "text/markdown": [
       "\n",
       "Top_Ten_Teams_by_Defence_Attributes | Sum_Defence_Attributes | \n",
       "|---|---|---|---|---|---|---|---|---|---|\n",
       "| Wolverhampton Wanderers | 210                     | \n",
       "| Bournemouth             | 210                     | \n",
       "| Swansea City            | 210                     | \n",
       "| Odra Wodzislaw          | 205                     | \n",
       "| KSV Roeselare           | 205                     | \n",
       "| Falkirk                 | 200                     | \n",
       "| Le Mans FC              | 200                     | \n",
       "| Grenoble Foot 38        | 195                     | \n",
       "| FC Barcelona            | 191                     | \n",
       "| Lazio                   | 190                     | \n",
       "\n",
       "\n"
      ],
      "text/plain": [
       "   Top_Ten_Teams_by_Defence_Attributes Sum_Defence_Attributes\n",
       "1  Wolverhampton Wanderers             210                   \n",
       "2  Bournemouth                         210                   \n",
       "3  Swansea City                        210                   \n",
       "4  Odra Wodzislaw                      205                   \n",
       "5  KSV Roeselare                       205                   \n",
       "6  Falkirk                             200                   \n",
       "7  Le Mans FC                          200                   \n",
       "8  Grenoble Foot 38                    195                   \n",
       "9  FC Barcelona                        191                   \n",
       "10 Lazio                               190                   "
      ]
     },
     "metadata": {},
     "output_type": "display_data"
    }
   ],
   "source": [
    "q7 <- arrange(Team)%>%select(team_long_name,defense_sum)%>%rename(Top_Ten_Teams_by_Defence_Attributes = team_long_name,Sum_Defence_Attributes=defense_sum)\n",
    "arrange(q7,desc(Sum_Defence_Attributes))%>%head(10)"
   ]
  },
  {
   "cell_type": "markdown",
   "metadata": {},
   "source": [
    "### Question 8: Which are the top 10 teams by number of scored goals?"
   ]
  },
  {
   "cell_type": "code",
   "execution_count": 81,
   "metadata": {
    "collapsed": false
   },
   "outputs": [
    {
     "data": {
      "text/html": [
       "<table>\n",
       "<thead><tr><th scope=col>Top_Ten_Teams_by_Total_Goals_Scored</th><th scope=col>Total_Goals_Scored</th></tr></thead>\n",
       "<tbody>\n",
       "\t<tr><td>FC Barcelona     </td><td>849              </td></tr>\n",
       "\t<tr><td>Real Madrid CF   </td><td>843              </td></tr>\n",
       "\t<tr><td>Celtic           </td><td>695              </td></tr>\n",
       "\t<tr><td>FC Bayern Munich </td><td>653              </td></tr>\n",
       "\t<tr><td>PSV              </td><td>652              </td></tr>\n",
       "\t<tr><td>Ajax             </td><td>647              </td></tr>\n",
       "\t<tr><td>FC Basel         </td><td>619              </td></tr>\n",
       "\t<tr><td>Manchester City  </td><td>606              </td></tr>\n",
       "\t<tr><td>Chelsea          </td><td>583              </td></tr>\n",
       "\t<tr><td>Manchester United</td><td>582              </td></tr>\n",
       "</tbody>\n",
       "</table>\n"
      ],
      "text/latex": [
       "\\begin{tabular}{r|ll}\n",
       " Top\\_Ten\\_Teams\\_by\\_Total\\_Goals\\_Scored & Total\\_Goals\\_Scored\\\\\n",
       "\\hline\n",
       "\t FC Barcelona      & 849              \\\\\n",
       "\t Real Madrid CF    & 843              \\\\\n",
       "\t Celtic            & 695              \\\\\n",
       "\t FC Bayern Munich  & 653              \\\\\n",
       "\t PSV               & 652              \\\\\n",
       "\t Ajax              & 647              \\\\\n",
       "\t FC Basel          & 619              \\\\\n",
       "\t Manchester City   & 606              \\\\\n",
       "\t Chelsea           & 583              \\\\\n",
       "\t Manchester United & 582              \\\\\n",
       "\\end{tabular}\n"
      ],
      "text/markdown": [
       "\n",
       "Top_Ten_Teams_by_Total_Goals_Scored | Total_Goals_Scored | \n",
       "|---|---|---|---|---|---|---|---|---|---|\n",
       "| FC Barcelona      | 849               | \n",
       "| Real Madrid CF    | 843               | \n",
       "| Celtic            | 695               | \n",
       "| FC Bayern Munich  | 653               | \n",
       "| PSV               | 652               | \n",
       "| Ajax              | 647               | \n",
       "| FC Basel          | 619               | \n",
       "| Manchester City   | 606               | \n",
       "| Chelsea           | 583               | \n",
       "| Manchester United | 582               | \n",
       "\n",
       "\n"
      ],
      "text/plain": [
       "   Top_Ten_Teams_by_Total_Goals_Scored Total_Goals_Scored\n",
       "1  FC Barcelona                        849               \n",
       "2  Real Madrid CF                      843               \n",
       "3  Celtic                              695               \n",
       "4  FC Bayern Munich                    653               \n",
       "5  PSV                                 652               \n",
       "6  Ajax                                647               \n",
       "7  FC Basel                            619               \n",
       "8  Manchester City                     606               \n",
       "9  Chelsea                             583               \n",
       "10 Manchester United                   582               "
      ]
     },
     "metadata": {},
     "output_type": "display_data"
    }
   ],
   "source": [
    "q8 <- arrange(Team,desc(total_goal))%>%select(team_long_name,total_goal)%>%rename(Top_Ten_Teams_by_Total_Goals_Scored = team_long_name,Total_Goals_Scored=total_goal)\n",
    "arrange(q8,desc(Total_Goals_Scored))%>%head(10)"
   ]
  },
  {
   "cell_type": "markdown",
   "metadata": {},
   "source": [
    "### END OF LAB2 - ACTIVITY 2.B"
   ]
  }
 ],
 "metadata": {
  "kernelspec": {
   "display_name": "R",
   "language": "R",
   "name": "ir"
  },
  "language_info": {
   "codemirror_mode": "r",
   "file_extension": ".r",
   "mimetype": "text/x-r-source",
   "name": "R",
   "pygments_lexer": "r",
   "version": "3.3.2"
  }
 },
 "nbformat": 4,
 "nbformat_minor": 2
}
